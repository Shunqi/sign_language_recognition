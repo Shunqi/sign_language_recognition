{
 "cells": [
  {
   "cell_type": "code",
   "execution_count": 5,
   "metadata": {},
   "outputs": [
    {
     "data": {
      "image/png": "[encoded data removed]",
      "text/plain": [
       "<matplotlib.figure.Figure at 0x2419d979630>"
      ]
     },
     "metadata": {},
     "output_type": "display_data"
    },
    {
     "data": {
      "image/png": "[encoded data removed]",
      "text/plain": [
       "<matplotlib.figure.Figure at 0x241a62cf208>"
      ]
     },
     "metadata": {},
     "output_type": "display_data"
    }
   ],
   "source": [
    "import os\n",
    "import numpy as np\n",
    "from scipy.misc import imread, imresize\n",
    "from sklearn.svm import SVC\n",
    "from sklearn.model_selection import train_test_split\n",
    "from sklearn.model_selection import cross_val_score\n",
    "from sklearn.neural_network import MLPClassifier\n",
    "from sklearn.metrics import accuracy_score\n",
    "from skimage.filters import threshold_mean\n",
    "from sklearn.decomposition import PCA\n",
    "\n",
    "from matplotlib import pyplot as plt\n",
    "\n",
    "import pickle\n",
    "from sklearn.externals import joblib\n",
    "\n",
    "\n",
    "test_size = 0.2\n",
    "\n",
    "img_size = 64\n",
    "grayscale_images = True\n",
    "num_class = 10\n",
    "\n",
    "# Modified from the given code\n",
    "def get_img(data_path):\n",
    "    # Getting image array from path:\n",
    "    img = imread(data_path, flatten=grayscale_images)\n",
    "    img = imresize(img, (img_size, img_size, 1 if grayscale_images else 3))\n",
    "    # thresh = threshold_mean(img)\n",
    "    # binary = img > thresh\n",
    "    return img\n",
    "\n",
    "def get_dataset(dataset_path='dataset'):\n",
    "    # Getting all data from data path:\n",
    "    labels = os.listdir(dataset_path) # Geting labels\n",
    "    X = []\n",
    "    Y = []\n",
    "    for i, label in enumerate(labels):\n",
    "        datas_path = dataset_path+'/'+label\n",
    "        for data in os.listdir(datas_path):\n",
    "            img = get_img(datas_path+'/'+data)\n",
    "            X.append(img)\n",
    "            Y.append(i)\n",
    "    # Create dateset:\n",
    "    X = 1-np.array(X).astype('float32')/255.\n",
    "    Y = np.array(Y).astype('float32')\n",
    "    return X, Y\n",
    "\n",
    "# Self written\n",
    "X, Y = get_dataset(\"dataset\")\n",
    "\n",
    "plt.imshow(X[1120])\n",
    "plt.show()\n",
    "\n",
    "thresh = threshold_mean(X[1120])\n",
    "binary = X[1120] > thresh\n",
    "plt.imshow(binary)\n",
    "plt.show()\n",
    "\n"
   ]
  },
  {
   "cell_type": "code",
   "execution_count": 11,
   "metadata": {},
   "outputs": [
    {
     "name": "stdout",
     "output_type": "stream",
     "text": [
      "Shape: (2062, 4096)\n",
      "Accuracy: 0.830508474576\n",
      "Time used: 27.74316716194153s\n"
     ]
    }
   ],
   "source": [
    "import time\n",
    "\n",
    "features = np.array(X).reshape((X.shape[0], 64 * 64))\n",
    "labels = Y\n",
    "print(\"Shape: \" + str(features.shape))\n",
    "\n",
    "clf = SVC(kernel=\"linear\")\n",
    "\n",
    "\n",
    "features_train, features_test, labels_train, labels_test = train_test_split(features, labels, test_size=test_size, random_state=15)\n",
    "\n",
    "start = time.time()\n",
    "clf.fit(features_train, labels_train)\n",
    "print(\"Accuracy: \" + str(clf.score(features_test, labels_test)))\n",
    "end = time.time()\n",
    "print(\"Time used: \" + str(end - start) + \"s\")\n",
    "\n",
    "# joblib.dump(clf, \"linear-svm.pkl\")\n"
   ]
  },
  {
   "cell_type": "code",
   "execution_count": 18,
   "metadata": {},
   "outputs": [
    {
     "name": "stdout",
     "output_type": "stream",
     "text": [
      "Shape: (2062, 200)\n",
      "Accuracy: 0.719128329298\n",
      "Time used: 2.075303316116333s\n"
     ]
    }
   ],
   "source": [
    "pca = PCA(n_components=200, copy=True, whiten=True)\n",
    "features_pca = pca.fit_transform(features)\n",
    "recovered = pca.inverse_transform(features)\n",
    "\n",
    "print(\"Shape: \" + str(features.shape))\n",
    "\n",
    "clf = SVC(kernel=\"linear\")\n",
    "\n",
    "features_train, features_test, labels_train, labels_test = train_test_split(features_pca, labels, test_size=test_size, random_state=15)\n",
    "\n",
    "start = time.time()\n",
    "clf.fit(features_train, labels_train)\n",
    "print(\"Accuracy: \" + str(clf.score(features_test, labels_test)))\n",
    "end = time.time()\n",
    "print(\"Time used: \" + str(end - start) + \"s\")\n"
   ]
  },
  {
   "cell_type": "code",
   "execution_count": 24,
   "metadata": {},
   "outputs": [
    {
     "name": "stdout",
     "output_type": "stream",
     "text": [
      "0.642857142857\n"
     ]
    }
   ],
   "source": [
    "X, Y = get_dataset(\"dataset\")\n",
    "\n",
    "features = np.array(X).reshape((X.shape[0], 64 * 64))\n",
    "labels = Y\n",
    "\n",
    "clf = SVC(kernel=\"linear\")\n",
    "\n",
    "clf.fit(features, labels)\n",
    "# joblib.dump(clf, \"linear-svm.pkl\")\n",
    "\n",
    "X_val, Y_val = get_dataset(\"validation\")\n",
    "\n",
    "features_val = np.array(X_val).reshape((X_val.shape[0], 64 * 64))\n",
    "labels_val = Y_val\n",
    "\n",
    "# result = clf.predict(features_val)\n",
    "# for r, l in zip(result, labels):\n",
    "#     print(str(r) + \" \" + str(l))\n",
    "\n",
    "print(\"Accuracy: \" + str(clf.score(features_val, labels_val)))"
   ]
  },
  {
   "cell_type": "code",
   "execution_count": null,
   "metadata": {
    "collapsed": true
   },
   "outputs": [],
   "source": []
  }
 ],
 "metadata": {
  "kernelspec": {
   "display_name": "Python 3",
   "language": "python",
   "name": "python3"
  },
  "language_info": {
   "codemirror_mode": {
    "name": "ipython",
    "version": 3
   },
   "file_extension": ".py",
   "mimetype": "text/x-python",
   "name": "python",
   "nbconvert_exporter": "python",
   "pygments_lexer": "ipython3",
   "version": "3.6.3"
  }
 },
 "nbformat": 4,
 "nbformat_minor": 2
}
